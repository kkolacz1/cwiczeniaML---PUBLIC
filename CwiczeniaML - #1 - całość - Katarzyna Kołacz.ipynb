{
 "cells": [
  {
   "cell_type": "markdown",
   "id": "b091408e",
   "metadata": {},
   "source": [
    "## Nauczanie maszynowe/Ćwiczenia1\n",
    "Uczenie maszynowe można podzielić na:\n",
    "\n",
    "Uczenie nadzorowane (z nauczycielem) - na podstawie danych \n",
    " uczymy się funkcji \n",
    ", takiej że \n",
    "Uczenie nienadzorowane (bez nauczyciela) - na podstawie danych \n",
    " uczymy się \n",
    "Uczenie ze wzmocnieniem - uczymy się polityki \n",
    "Będziemy zajmować się przede wszystkim uczeniem nadzorowanym oraz nienadzorowanym. Aby wyznaczyć parametr  rozważmy różnego typu funkcje kosztu.\n",
    "\n",
    "W uczeniu nadzorowanym najczęsciej interesuje nas zagadnienie regresji lub klasyfikacji.\n",
    "\n",
    "Modele dyskryminatywne a generatywne"
   ]
  },
  {
   "cell_type": "code",
   "execution_count": 80,
   "id": "6e080cf7",
   "metadata": {},
   "outputs": [],
   "source": [
    "import numpy as np\n",
    "import matplotlib.pyplot as plt"
   ]
  },
  {
   "cell_type": "code",
   "execution_count": 81,
   "id": "6361f6ea",
   "metadata": {},
   "outputs": [
    {
     "name": "stdout",
     "output_type": "stream",
     "text": [
      ".. _boston_dataset:\n",
      "\n",
      "Boston house prices dataset\n",
      "---------------------------\n",
      "\n",
      "**Data Set Characteristics:**  \n",
      "\n",
      "    :Number of Instances: 506 \n",
      "\n",
      "    :Number of Attributes: 13 numeric/categorical predictive. Median Value (attribute 14) is usually the target.\n",
      "\n",
      "    :Attribute Information (in order):\n",
      "        - CRIM     per capita crime rate by town\n",
      "        - ZN       proportion of residential land zoned for lots over 25,000 sq.ft.\n",
      "        - INDUS    proportion of non-retail business acres per town\n",
      "        - CHAS     Charles River dummy variable (= 1 if tract bounds river; 0 otherwise)\n",
      "        - NOX      nitric oxides concentration (parts per 10 million)\n",
      "        - RM       average number of rooms per dwelling\n",
      "        - AGE      proportion of owner-occupied units built prior to 1940\n",
      "        - DIS      weighted distances to five Boston employment centres\n",
      "        - RAD      index of accessibility to radial highways\n",
      "        - TAX      full-value property-tax rate per $10,000\n",
      "        - PTRATIO  pupil-teacher ratio by town\n",
      "        - B        1000(Bk - 0.63)^2 where Bk is the proportion of black people by town\n",
      "        - LSTAT    % lower status of the population\n",
      "        - MEDV     Median value of owner-occupied homes in $1000's\n",
      "\n",
      "    :Missing Attribute Values: None\n",
      "\n",
      "    :Creator: Harrison, D. and Rubinfeld, D.L.\n",
      "\n",
      "This is a copy of UCI ML housing dataset.\n",
      "https://archive.ics.uci.edu/ml/machine-learning-databases/housing/\n",
      "\n",
      "\n",
      "This dataset was taken from the StatLib library which is maintained at Carnegie Mellon University.\n",
      "\n",
      "The Boston house-price data of Harrison, D. and Rubinfeld, D.L. 'Hedonic\n",
      "prices and the demand for clean air', J. Environ. Economics & Management,\n",
      "vol.5, 81-102, 1978.   Used in Belsley, Kuh & Welsch, 'Regression diagnostics\n",
      "...', Wiley, 1980.   N.B. Various transformations are used in the table on\n",
      "pages 244-261 of the latter.\n",
      "\n",
      "The Boston house-price data has been used in many machine learning papers that address regression\n",
      "problems.   \n",
      "     \n",
      ".. topic:: References\n",
      "\n",
      "   - Belsley, Kuh & Welsch, 'Regression diagnostics: Identifying Influential Data and Sources of Collinearity', Wiley, 1980. 244-261.\n",
      "   - Quinlan,R. (1993). Combining Instance-Based and Model-Based Learning. In Proceedings on the Tenth International Conference of Machine Learning, 236-243, University of Massachusetts, Amherst. Morgan Kaufmann.\n",
      "\n"
     ]
    },
    {
     "name": "stderr",
     "output_type": "stream",
     "text": [
      "C:\\Users\\katar\\miniconda3\\lib\\site-packages\\sklearn\\utils\\deprecation.py:87: FutureWarning: Function load_boston is deprecated; `load_boston` is deprecated in 1.0 and will be removed in 1.2.\n",
      "\n",
      "    The Boston housing prices dataset has an ethical problem. You can refer to\n",
      "    the documentation of this function for further details.\n",
      "\n",
      "    The scikit-learn maintainers therefore strongly discourage the use of this\n",
      "    dataset unless the purpose of the code is to study and educate about\n",
      "    ethical issues in data science and machine learning.\n",
      "\n",
      "    In this special case, you can fetch the dataset from the original\n",
      "    source::\n",
      "\n",
      "        import pandas as pd\n",
      "        import numpy as np\n",
      "\n",
      "        data_url = \"http://lib.stat.cmu.edu/datasets/boston\"\n",
      "        raw_df = pd.read_csv(data_url, sep=\"\\s+\", skiprows=22, header=None)\n",
      "        data = np.hstack([raw_df.values[::2, :], raw_df.values[1::2, :2]])\n",
      "        target = raw_df.values[1::2, 2]\n",
      "\n",
      "    Alternative datasets include the California housing dataset (i.e.\n",
      "    :func:`~sklearn.datasets.fetch_california_housing`) and the Ames housing\n",
      "    dataset. You can load the datasets as follows::\n",
      "\n",
      "        from sklearn.datasets import fetch_california_housing\n",
      "        housing = fetch_california_housing()\n",
      "\n",
      "    for the California housing dataset and::\n",
      "\n",
      "        from sklearn.datasets import fetch_openml\n",
      "        housing = fetch_openml(name=\"house_prices\", as_frame=True)\n",
      "\n",
      "    for the Ames housing dataset.\n",
      "  warnings.warn(msg, category=FutureWarning)\n"
     ]
    }
   ],
   "source": [
    "from sklearn.datasets import load_boston\n",
    "boston_data = load_boston()\n",
    "print(boston_data['DESCR']) #opis tych danych (DESCRIPTION)"
   ]
  },
  {
   "cell_type": "code",
   "execution_count": 82,
   "id": "9724ad5c",
   "metadata": {},
   "outputs": [],
   "source": [
    "d = boston_data['data']\n",
    "d2 = d[:, [2,5]] #wyciągamy tylko 2 cechy: INDUS, RM\n",
    "target = boston_data['target']"
   ]
  },
  {
   "cell_type": "code",
   "execution_count": 83,
   "id": "eddab2e5",
   "metadata": {
    "scrolled": true
   },
   "outputs": [
    {
     "data": {
      "image/png": "[encoded data removed]",
      "text/plain": [
       "<Figure size 432x288 with 1 Axes>"
      ]
     },
     "metadata": {
      "needs_background": "light"
     },
     "output_type": "display_data"
    },
    {
     "data": {
      "image/png": "[encoded data removed]",
      "text/plain": [
       "<Figure size 432x288 with 1 Axes>"
      ]
     },
     "metadata": {
      "needs_background": "light"
     },
     "output_type": "display_data"
    }
   ],
   "source": [
    "plt.title('Industrialness vs Med House Price')\n",
    "plt.scatter(d2[:, 0], target)\n",
    "plt.xlabel('Industrialness')\n",
    "plt.ylabel('Med House Price')\n",
    "plt.show()\n",
    "\n",
    "plt.title('Avg Num Rooms vs Med House Price')\n",
    "plt.scatter(d2[:, 1], target)\n",
    "plt.xlabel('Avg Num Rooms')\n",
    "plt.ylabel('Med House Price')\n",
    "plt.show()"
   ]
  },
  {
   "cell_type": "markdown",
   "id": "50add369",
   "metadata": {},
   "source": [
    "Funkcja kosztu mierzy średnią różnicę pomiędzy przewidywaniem a rzeczywistą wartością. Istnieje wiele funkcji tego typu"
   ]
  },
  {
   "cell_type": "code",
   "execution_count": 84,
   "id": "3dd25444",
   "metadata": {},
   "outputs": [],
   "source": [
    "def loss_function(w1, w2, w0, X, t):\n",
    "    \"\"\"\n",
    "    tutaj zdefiniuj funkcję, która przyjmuje jako argument wagi\n",
    "    (w1,w2,w0), dane w postaci listy list (X) oraz wartosci (t),\n",
    "    a ktora zwraca wartosc funkcji kosztu.\n",
    "    \"\"\"\n",
    "    costs = 0\n",
    "    for i in range(len(t)):\n",
    "        y_i = w1 * X[i, 0] + w2 * X[i, 1] + w0\n",
    "        t_i = t[i]\n",
    "        costs += 0.5 * (y_i - t_i) ** 2\n",
    "    return costs / len(t)\n",
    "    \n",
    "    pass"
   ]
  },
  {
   "cell_type": "code",
   "execution_count": 85,
   "id": "1604f593",
   "metadata": {},
   "outputs": [
    {
     "data": {
      "text/plain": [
       "2088.9192750474317"
      ]
     },
     "execution_count": 85,
     "metadata": {},
     "output_type": "execute_result"
    }
   ],
   "source": [
    "#przykladowe wywolanie\n",
    "loss_function(3, 8, -1, d2, target)"
   ]
  },
  {
   "cell_type": "code",
   "execution_count": 86,
   "id": "0b7ffc5b",
   "metadata": {},
   "outputs": [
    {
     "data": {
      "text/plain": [
       "20.61716585276679"
      ]
     },
     "execution_count": 86,
     "metadata": {},
     "output_type": "execute_result"
    }
   ],
   "source": [
    "#przykladowe wywolanie\n",
    "loss_function(-0.5, 8, -23, d2, target) #lepiej"
   ]
  },
  {
   "cell_type": "code",
   "execution_count": 87,
   "id": "d921783d",
   "metadata": {},
   "outputs": [],
   "source": [
    "##druga opcja\n",
    "\n",
    "def loss_function1(w1, w2, w0, X, t):\n",
    "    \"\"\"\n",
    "    tutaj zdefiniuj funkcję, która przyjmuje jako argument wagi\n",
    "    (w1,w2,w0), dane w postaci listy list (X) oraz wartosci (t),\n",
    "    a ktora zwraca wartosc funkcji kosztu.\n",
    "    \"\"\"\n",
    "    sum = 0\n",
    "    for i in range(np.size(t)):\n",
    "        sum += 0.5*(w1*X[i, 0] + w2*X[i, 1] + w0 - t[i])**2\n",
    " \n",
    "    costValue = sum/np.size(t)\n",
    "    return costValue"
   ]
  },
  {
   "cell_type": "code",
   "execution_count": 51,
   "id": "3d5aab37",
   "metadata": {},
   "outputs": [
    {
     "data": {
      "text/plain": [
       "2088.9192750474317"
      ]
     },
     "execution_count": 51,
     "metadata": {},
     "output_type": "execute_result"
    }
   ],
   "source": [
    "#przykladowe wywolanie\n",
    "loss_function1(3, 8, -1, d2, target)"
   ]
  },
  {
   "cell_type": "code",
   "execution_count": 88,
   "id": "3fedacb5",
   "metadata": {},
   "outputs": [
    {
     "data": {
      "text/plain": [
       "20.61716585276679"
      ]
     },
     "execution_count": 88,
     "metadata": {},
     "output_type": "execute_result"
    }
   ],
   "source": [
    "#przykladowe wywolanie\n",
    "loss_function(-0.5, 8, -23, d2, target) #lepiej"
   ]
  },
  {
   "cell_type": "markdown",
   "id": "66bbc312",
   "metadata": {},
   "source": [
    "## Zadanie1: Uzupełnij definicję powyższej funkcji."
   ]
  },
  {
   "cell_type": "markdown",
   "id": "8f324762",
   "metadata": {},
   "source": [
    "definicja: Funkcja kosztu w regresji liniowej, to błąd średniokwadratowy (RMSE) między przewidywanym y(pred), a rzeczywistym (y). \n"
   ]
  },
  {
   "cell_type": "code",
   "execution_count": 89,
   "id": "b58ef0a1",
   "metadata": {},
   "outputs": [],
   "source": [
    "##pochodne cząstkowe po w \n",
    "\n",
    "def diff_loss_w1(w1, w2, w0, X, t):\n",
    "    sum = 0\n",
    "    for i in range(np.size(t)):\n",
    "        sum += 0.5*2*X[i, 0]*(w2 * X[i, 1] - t[i] + w0 + w1 * X[i, 0])\n",
    " \n",
    "    costValue = sum/np.size(t)\n",
    "    return costValue\n",
    " \n",
    "def diff_loss_w2(w1, w2, w0, X, t):\n",
    "    sum = 0\n",
    "    for i in range(np.size(t)):\n",
    "        sum += 0.5*2*X[i, 1]*(X[i, 1]*w2 - t[i] + w0 + X[i, 0]*w1)\n",
    " \n",
    "    costValue = sum/np.size(t)\n",
    "    return costValue\n",
    " \n",
    "def diff_loss_w0(w1, w2, w0, X, t):\n",
    "    sum = 0\n",
    "    for i in range(np.size(t)):\n",
    "        sum += 0.5*2*(X[i, 1]*w2 - t[i] + w0 + X[i, 0]*w1)\n",
    " \n",
    "    costValue = sum/np.size(t)\n",
    "    return costValue"
   ]
  },
  {
   "cell_type": "code",
   "execution_count": 90,
   "id": "6e2ff5aa",
   "metadata": {},
   "outputs": [],
   "source": [
    "def update_weigths(w1, w2, w0, X, t, eta):\n",
    "    \"\"\"\n",
    "    tutaj zdefiniuj funkcję, która przyjmuje jako argument wagi\n",
    "    (w1,w2,w0), dane (X), wartosci (t) oraz wspolczynnik uczenia\n",
    "    (eta), a ktora zwraca zaktualizowane wartosci w1, w2, w0\n",
    "    \"\"\"\n",
    "\n",
    "    w1 = w1 - eta * diff_loss_w1(w1, w2, w0, X, t)\n",
    "    w2 = w2 - eta * diff_loss_w2(w1, w2, w0, X, t)\n",
    "    w0 = w0 - eta * diff_loss_w0(w1, w2, w0, X, t)\n",
    " \n",
    "    return [w1,w2,w0]\n",
    "    pass\n",
    "     \n"
   ]
  },
  {
   "cell_type": "code",
   "execution_count": 91,
   "id": "3cf8677d",
   "metadata": {},
   "outputs": [
    {
     "data": {
      "text/plain": [
       "[2.1737704910276685, 7.6844174642145555, -1.0489697487260532]"
      ]
     },
     "execution_count": 91,
     "metadata": {},
     "output_type": "execute_result"
    }
   ],
   "source": [
    "#przykladowe wywolanie\n",
    "update_weigths(3, 8, -1, d2, target, 0.001)"
   ]
  },
  {
   "cell_type": "markdown",
   "id": "c3750cd6",
   "metadata": {},
   "source": [
    "## Zadanie2: Uzupełnij definicję powyższej funkcji."
   ]
  },
  {
   "cell_type": "markdown",
   "id": "ac553032",
   "metadata": {},
   "source": [
    "Update weights jest funkcją obliczającą nowe wartosci parametrów w1, w2, w0 w wyniku optymalizacji kroczącej. (Optymalizacja krocząca polega na tym, że nie wiemy jak jest do końca poprawna wartośc parametrów w więc obliczamy ich wartość w wyniku stopniowego spadku gradientu)"
   ]
  },
  {
   "cell_type": "markdown",
   "id": "c09118df",
   "metadata": {},
   "source": [
    "## Zadanie3: \n",
    "\n",
    "Celem jest zbudowanie modelu regresji liniowej przeiwdującej target w oparciu o d2. Wystartuj z początkowych parametrów 1, 1 oraz 1. Przyjmując n=0,001  wykonaj 1000 aktualizacji tych parametrów na podstawie metody gradientu. Narysuj zależność funkcji kosztu od numeru iteracji. Wykonaj analogiczne obliczenia dla n = 0,001 oraz n = 0,00001. Skomentuj otrzymane wyniki."
   ]
  },
  {
   "cell_type": "code",
   "execution_count": 92,
   "id": "9bcf3e58",
   "metadata": {},
   "outputs": [
    {
     "data": {
      "image/png": "[encoded data removed]",
      "text/plain": [
       "<Figure size 432x288 with 1 Axes>"
      ]
     },
     "metadata": {
      "needs_background": "light"
     },
     "output_type": "display_data"
    },
    {
     "data": {
      "image/png": "[encoded data removed]",
      "text/plain": [
       "<Figure size 432x288 with 1 Axes>"
      ]
     },
     "metadata": {
      "needs_background": "light"
     },
     "output_type": "display_data"
    },
    {
     "data": {
      "image/png": "[encoded data removed]",
      "text/plain": [
       "<Figure size 432x288 with 1 Axes>"
      ]
     },
     "metadata": {
      "needs_background": "light"
     },
     "output_type": "display_data"
    }
   ],
   "source": [
    "def lin_regress(w1, w2, w0, X, t, eta, iter):\n",
    "    cost_progress = [];\n",
    "    for i in range(iter):\n",
    "        cost_progress.append(loss_function(w1, w2, w0, X, t))\n",
    "        [w1, w2, w0] = update_weigths(w1, w2, w0, X, t, eta)\n",
    " \n",
    "    return cost_progress\n",
    "    pass\n",
    "Y = lin_regress(1, 1, 1, d2, target, 0.001, 1000)\n",
    "X = range(len(Y))\n",
    "plt.scatter(X, Y)\n",
    "plt.title('Zaleznosc wartosci funkcji kosztu od iteracji regresji dla n = 0.001')\n",
    "plt.xlabel('Ilosc iteracji')\n",
    "plt.ylabel('Wartosc funkcji kosztu')\n",
    "plt.show()\n",
    "\n",
    "Y = lin_regress(1, 1, 1, d2, target, 0.01, 1000)\n",
    "X = range(len(Y))\n",
    "plt.scatter(X, Y)\n",
    "plt.title('Zaleznosc wartosci funkcji kosztu od iteracji regresji dla n = 0.01')\n",
    "plt.xlabel('Ilosc iteracji')\n",
    "plt.ylabel('Wartosc funkcji kosztu')\n",
    "plt.show()\n",
    "\n",
    "Y = lin_regress(1, 1, 1, d2, target, 0.00001, 1000)\n",
    "X = range(len(Y))\n",
    "plt.scatter(X, Y)\n",
    "plt.title('Zaleznosc wartosci funkcji kosztu od iteracji regresji dla n = 0.00001')\n",
    "plt.xlabel('Ilosc iteracji')\n",
    "plt.ylabel('Wartosc funkcji kosztu')\n",
    "plt.show()\n",
    "    "
   ]
  },
  {
   "cell_type": "markdown",
   "id": "f91b41b1",
   "metadata": {},
   "source": [
    "## Zadanie4: \n",
    "Zazwyczaj nie wiemy z góry ile razy należy zmodyfikować wagi - kiedy dalsza aktualizacja nie przynosi efektu. Jednym z rozwiązań tego problemu jest sprawdzenie o jaki procent zmieniają sie aktualne wagi. Przyjmijmy, że jeżeli zmiana funkcji kosztu jest mniejsza niż 0,1% to przerywamy działanie. Ile kroków należałoby wykonać aby zrealizować poprzednie zadanie?"
   ]
  },
  {
   "cell_type": "markdown",
   "id": "88828e74",
   "metadata": {},
   "source": [
    "Oczywiście w Pythonie istnieje implementacja metody regresji liniowej"
   ]
  },
  {
   "cell_type": "code",
   "execution_count": 94,
   "id": "9555a5b7",
   "metadata": {},
   "outputs": [
    {
     "data": {
      "image/png": "[encoded data removed]",
      "text/plain": [
       "<Figure size 432x288 with 1 Axes>"
      ]
     },
     "metadata": {
      "needs_background": "light"
     },
     "output_type": "display_data"
    }
   ],
   "source": [
    "def lin_regress_delta(w1, w2, w0, X, t, eta, iter):\n",
    "    cost_progress = []\n",
    "    delta = 1\n",
    "    while delta > 0.001:\n",
    "        cost_progress.append(loss_function(w1, w2, w0, X, t))\n",
    "        [w1, w2, w0] = update_weigths(w1, w2, w0, X, t, eta)\n",
    "        if len(cost_progress) > 2:\n",
    "            delta = 1 - cost_progress[-1]/cost_progress[-2]\n",
    " \n",
    " \n",
    "    return cost_progress\n",
    "    pass\n",
    "\n",
    "Y = lin_regress_delta(1, 1, 1, d2, target, 0.001, 1000)\n",
    "X = range(len(Y))\n",
    "plt.scatter(X, Y)\n",
    "plt.title('Zaleznosc wartosci funkcji kosztu od iteracji regresji dla n = 0.001')\n",
    "plt.xlabel('Ilosc iteracji')\n",
    "plt.ylabel('Wartosc funkcji kosztu')\n",
    "plt.show()\n"
   ]
  },
  {
   "cell_type": "code",
   "execution_count": 95,
   "id": "3374a42b",
   "metadata": {},
   "outputs": [],
   "source": [
    "from sklearn.linear_model import LinearRegression"
   ]
  },
  {
   "cell_type": "code",
   "execution_count": 96,
   "id": "b20e651b",
   "metadata": {},
   "outputs": [],
   "source": [
    "model = LinearRegression()\n",
    "model.fit(d2, target);"
   ]
  },
  {
   "cell_type": "code",
   "execution_count": 97,
   "id": "8090a34e",
   "metadata": {},
   "outputs": [
    {
     "data": {
      "text/plain": [
       "array([-0.33471389,  7.82205511])"
      ]
     },
     "execution_count": 97,
     "metadata": {},
     "output_type": "execute_result"
    }
   ],
   "source": [
    "model.coef_ #wspolczynnki dla zmiennych"
   ]
  },
  {
   "cell_type": "code",
   "execution_count": 98,
   "id": "274d21c1",
   "metadata": {},
   "outputs": [
    {
     "data": {
      "text/plain": [
       "-22.89831572922507"
      ]
     },
     "execution_count": 98,
     "metadata": {},
     "output_type": "execute_result"
    }
   ],
   "source": [
    "model.intercept_ #wyraz wolny"
   ]
  },
  {
   "cell_type": "markdown",
   "id": "8d173ec0",
   "metadata": {},
   "source": [
    "## Zadanie5:  \n",
    "Porównaj te parametry z otrzymanymi z Zadania3. Z czego może wynikać ta różnica? (te które wyszły z modelu regresji liniowej w pythonie z tymi, które obliczyliśmy z naszego modelu)"
   ]
  },
  {
   "cell_type": "code",
   "execution_count": 99,
   "id": "68b06223",
   "metadata": {},
   "outputs": [
    {
     "name": "stdout",
     "output_type": "stream",
     "text": [
      "0.5362984005856312\n"
     ]
    }
   ],
   "source": [
    "r_sq = model.score(d2, target) #R2 modelu\n",
    "print(r_sq) "
   ]
  },
  {
   "cell_type": "code",
   "execution_count": 100,
   "id": "10c6ac91",
   "metadata": {},
   "outputs": [
    {
     "name": "stdout",
     "output_type": "stream",
     "text": [
      "[27.75850755 24.96067296 30.93672306 31.11074967 32.27623588]\n"
     ]
    }
   ],
   "source": [
    "y_pred = model.predict(d2) #przewidywane y\n",
    "print(y_pred[:5])"
   ]
  },
  {
   "cell_type": "code",
   "execution_count": 101,
   "id": "bdb46c4f",
   "metadata": {},
   "outputs": [
    {
     "name": "stdout",
     "output_type": "stream",
     "text": [
      "Wspolczynnki dla zmiennych modelu sklearn: [-0.33471389  7.82205511]\n",
      "Wyraz wolny modelu sklearn: -22.89831572922507\n",
      "Wspolczynnki dla zmiennych naszego modelu: -0.52390714136992 4.350750734941031\n",
      "Wyraz wolny naszego modelu: 1.2350824971678067\n"
     ]
    }
   ],
   "source": [
    "# obliczenie naszych parametrów od nowa \n",
    "\n",
    "model = LinearRegression()\n",
    "model.fit(d2, target)\n",
    " \n",
    "print('Wspolczynnki dla zmiennych modelu sklearn: ' + str(model.coef_))\n",
    "print('Wyraz wolny modelu sklearn: ' + str(model.intercept_))\n",
    " \n",
    " \n",
    "def lin_regress2(w1, w2, w0, X, t, eta, iter):\n",
    "    cost_progress = []\n",
    "    for i in range(iter):\n",
    "        cost_progress.append(loss_function(w1, w2, w0, X, t))\n",
    "        [w1, w2, w0] = update_weigths(w1, w2, w0, X, t, eta)\n",
    " \n",
    "    return [w1, w2, w0]\n",
    "    pass\n",
    "\n",
    "naszeWyrazy = lin_regress2(1, 1, 1, d2, target, 0.001, 1000)\n",
    " \n",
    "print('Wspolczynnki dla zmiennych naszego modelu: ' + str(naszeWyrazy[0]) + ' ' + str(naszeWyrazy[1]))\n",
    "print('Wyraz wolny naszego modelu: ' + str(naszeWyrazy[2]))"
   ]
  },
  {
   "cell_type": "markdown",
   "id": "16c00341",
   "metadata": {},
   "source": [
    "## Co jeżeli dane nie są liniowe?"
   ]
  },
  {
   "cell_type": "code",
   "execution_count": 102,
   "id": "079d9e27",
   "metadata": {},
   "outputs": [
    {
     "name": "stdout",
     "output_type": "stream",
     "text": [
      "Object `liniowe` not found.\n"
     ]
    },
    {
     "data": {
      "image/png": "[encoded data removed]",
      "text/plain": [
       "<Figure size 432x288 with 1 Axes>"
      ]
     },
     "metadata": {
      "needs_background": "light"
     },
     "output_type": "display_data"
    }
   ],
   "source": [
    "Co jeżeli dane nie są liniowe?\n",
    "def non_linear(x):\n",
    "    return 3*x**2+8*np.sin(x)+7\n",
    "\n",
    "x = np.linspace(-3,3,100) #100 liczb z przedzialu [-3,3]\n",
    "y = non_linear(x)\n",
    "\n",
    "plt.scatter(x,y)\n",
    "plt.show()"
   ]
  },
  {
   "cell_type": "markdown",
   "id": "9f03e479",
   "metadata": {},
   "source": [
    "Załóżmy, że dane są tylko  oraz  oraz znana jest zależność między nimi, tzn, przy czym  są nieznane."
   ]
  },
  {
   "cell_type": "code",
   "execution_count": 103,
   "id": "5735dada",
   "metadata": {},
   "outputs": [],
   "source": [
    "x1 = x**2\n",
    "x2 = np.sin(x)\n",
    "X = np.vstack((x1, x2)).T #lącze je w tablice 2D\n",
    "target = y"
   ]
  },
  {
   "cell_type": "code",
   "execution_count": 104,
   "id": "d79a7dd0",
   "metadata": {},
   "outputs": [],
   "source": [
    "w1 = 1\n",
    "w2 = 1\n",
    "w0 = 1\n",
    "\n",
    "l = []\n",
    "\n",
    "for i in range(10000):\n",
    "    l.append(loss_function(w1, w2, w0, X, target))\n",
    "    w1, w2, w0 = update_weigths(w1, w2, w0, X, target, 0.001)"
   ]
  },
  {
   "cell_type": "code",
   "execution_count": 105,
   "id": "c2998fea",
   "metadata": {},
   "outputs": [
    {
     "data": {
      "text/plain": [
       "(3.013748287972514, 7.9607443561805535, 6.926201414198262)"
      ]
     },
     "execution_count": 105,
     "metadata": {},
     "output_type": "execute_result"
    }
   ],
   "source": [
    "w1, w2, w0"
   ]
  },
  {
   "cell_type": "markdown",
   "id": "075b9066",
   "metadata": {},
   "source": [
    "Wniosek: Powyższa metoda może być stosowana także do nieliniowych funkcji."
   ]
  },
  {
   "cell_type": "markdown",
   "id": "4dbfab33",
   "metadata": {},
   "source": [
    "## Parametry modelu a hiperparametry\n",
    "parametry modelu (w1, w2, w0\n",
    ")\n",
    "hiperparametry (np. n ), są zewnętrzne wobec modelu\n",
    "Dane zazwyczaj dzielimy na 2 lub 3 grupy - zbiór treningowy, zbiór walidacyjny oraz zbiór testowy.\n",
    "\n",
    "Ogólnie:\n",
    "\n",
    "Na zbiorze treningowym uczymy parametrów modelu za pomocą metody spadku gradientu.\n",
    "Z użyciem zbioru walidacyjnego wybieramy najbardziej optymalne hiperparametry.\n",
    "Sprawdzamy wybrany zbiór parametrów i hiperparametrów na zbiorze testowym"
   ]
  },
  {
   "cell_type": "markdown",
   "id": "e4ca964a",
   "metadata": {},
   "source": [
    "## Zadanie6: Rozważ jeszcze raz dane d2/target.\n",
    "Podziel je na trzy podzbiory - treningowy (60%), walidacyjny (20%) oraz testowy (20%); najlepiej zdefiniuj odpowiednią funkcję.\n",
    "Przetestuj różne wartości parametrów  na zbiorze walidacyjnym, na tej podstawie wybierz jeden, który użyjesz do wytrenowania parametrów modelu na zbiórze treningowym.\n",
    "Na końcu wyznacz wartość funkcji kosztu na zbiorze testowym. Skomentuj otrzymane wyniki."
   ]
  },
  {
   "cell_type": "code",
   "execution_count": 106,
   "id": "aab3260c",
   "metadata": {},
   "outputs": [
    {
     "ename": "ValueError",
     "evalue": "Found input variables with inconsistent numbers of samples: [506, 100]",
     "output_type": "error",
     "traceback": [
      "\u001b[1;31m---------------------------------------------------------------------------\u001b[0m",
      "\u001b[1;31mValueError\u001b[0m                                Traceback (most recent call last)",
      "Input \u001b[1;32mIn [106]\u001b[0m, in \u001b[0;36m<cell line: 5>\u001b[1;34m()\u001b[0m\n\u001b[0;32m      1\u001b[0m \u001b[38;5;28;01mfrom\u001b[39;00m \u001b[38;5;21;01msklearn\u001b[39;00m\u001b[38;5;21;01m.\u001b[39;00m\u001b[38;5;21;01mmodel_selection\u001b[39;00m \u001b[38;5;28;01mimport\u001b[39;00m train_test_split\n\u001b[0;32m      3\u001b[0m \u001b[38;5;66;03m#obliczanie parametrow w\u001b[39;00m\n\u001b[1;32m----> 5\u001b[0m X_train, X_test, y_train, y_test \u001b[38;5;241m=\u001b[39m \u001b[43mtrain_test_split\u001b[49m\u001b[43m(\u001b[49m\u001b[43md2\u001b[49m\u001b[43m,\u001b[49m\u001b[43m \u001b[49m\u001b[43mtarget\u001b[49m\u001b[43m,\u001b[49m\u001b[43m \u001b[49m\u001b[43mtest_size\u001b[49m\u001b[38;5;241;43m=\u001b[39;49m\u001b[38;5;241;43m0.4\u001b[39;49m\u001b[43m,\u001b[49m\u001b[43m \u001b[49m\u001b[43mrandom_state\u001b[49m\u001b[38;5;241;43m=\u001b[39;49m\u001b[38;5;241;43m42\u001b[39;49m\u001b[43m)\u001b[49m\n\u001b[0;32m      7\u001b[0m X_walid, X_test, y_walid, y_test \u001b[38;5;241m=\u001b[39m train_test_split(X_test, y_test, test_size\u001b[38;5;241m=\u001b[39m\u001b[38;5;241m0.5\u001b[39m, random_state\u001b[38;5;241m=\u001b[39m\u001b[38;5;241m42\u001b[39m)\n\u001b[0;32m      9\u001b[0m [w1, w2, w0] \u001b[38;5;241m=\u001b[39m lin_regress2(\u001b[38;5;241m1\u001b[39m, \u001b[38;5;241m1\u001b[39m, \u001b[38;5;241m1\u001b[39m, X_train, y_train, \u001b[38;5;241m0.001\u001b[39m, \u001b[38;5;241m100\u001b[39m)\n",
      "File \u001b[1;32m~\\miniconda3\\lib\\site-packages\\sklearn\\model_selection\\_split.py:2445\u001b[0m, in \u001b[0;36mtrain_test_split\u001b[1;34m(test_size, train_size, random_state, shuffle, stratify, *arrays)\u001b[0m\n\u001b[0;32m   2442\u001b[0m \u001b[38;5;28;01mif\u001b[39;00m n_arrays \u001b[38;5;241m==\u001b[39m \u001b[38;5;241m0\u001b[39m:\n\u001b[0;32m   2443\u001b[0m     \u001b[38;5;28;01mraise\u001b[39;00m \u001b[38;5;167;01mValueError\u001b[39;00m(\u001b[38;5;124m\"\u001b[39m\u001b[38;5;124mAt least one array required as input\u001b[39m\u001b[38;5;124m\"\u001b[39m)\n\u001b[1;32m-> 2445\u001b[0m arrays \u001b[38;5;241m=\u001b[39m \u001b[43mindexable\u001b[49m\u001b[43m(\u001b[49m\u001b[38;5;241;43m*\u001b[39;49m\u001b[43marrays\u001b[49m\u001b[43m)\u001b[49m\n\u001b[0;32m   2447\u001b[0m n_samples \u001b[38;5;241m=\u001b[39m _num_samples(arrays[\u001b[38;5;241m0\u001b[39m])\n\u001b[0;32m   2448\u001b[0m n_train, n_test \u001b[38;5;241m=\u001b[39m _validate_shuffle_split(\n\u001b[0;32m   2449\u001b[0m     n_samples, test_size, train_size, default_test_size\u001b[38;5;241m=\u001b[39m\u001b[38;5;241m0.25\u001b[39m\n\u001b[0;32m   2450\u001b[0m )\n",
      "File \u001b[1;32m~\\miniconda3\\lib\\site-packages\\sklearn\\utils\\validation.py:433\u001b[0m, in \u001b[0;36mindexable\u001b[1;34m(*iterables)\u001b[0m\n\u001b[0;32m    414\u001b[0m \u001b[38;5;124;03m\"\"\"Make arrays indexable for cross-validation.\u001b[39;00m\n\u001b[0;32m    415\u001b[0m \n\u001b[0;32m    416\u001b[0m \u001b[38;5;124;03mChecks consistent length, passes through None, and ensures that everything\u001b[39;00m\n\u001b[1;32m   (...)\u001b[0m\n\u001b[0;32m    429\u001b[0m \u001b[38;5;124;03m    sparse matrix, or dataframe) or `None`.\u001b[39;00m\n\u001b[0;32m    430\u001b[0m \u001b[38;5;124;03m\"\"\"\u001b[39;00m\n\u001b[0;32m    432\u001b[0m result \u001b[38;5;241m=\u001b[39m [_make_indexable(X) \u001b[38;5;28;01mfor\u001b[39;00m X \u001b[38;5;129;01min\u001b[39;00m iterables]\n\u001b[1;32m--> 433\u001b[0m \u001b[43mcheck_consistent_length\u001b[49m\u001b[43m(\u001b[49m\u001b[38;5;241;43m*\u001b[39;49m\u001b[43mresult\u001b[49m\u001b[43m)\u001b[49m\n\u001b[0;32m    434\u001b[0m \u001b[38;5;28;01mreturn\u001b[39;00m result\n",
      "File \u001b[1;32m~\\miniconda3\\lib\\site-packages\\sklearn\\utils\\validation.py:387\u001b[0m, in \u001b[0;36mcheck_consistent_length\u001b[1;34m(*arrays)\u001b[0m\n\u001b[0;32m    385\u001b[0m uniques \u001b[38;5;241m=\u001b[39m np\u001b[38;5;241m.\u001b[39munique(lengths)\n\u001b[0;32m    386\u001b[0m \u001b[38;5;28;01mif\u001b[39;00m \u001b[38;5;28mlen\u001b[39m(uniques) \u001b[38;5;241m>\u001b[39m \u001b[38;5;241m1\u001b[39m:\n\u001b[1;32m--> 387\u001b[0m     \u001b[38;5;28;01mraise\u001b[39;00m \u001b[38;5;167;01mValueError\u001b[39;00m(\n\u001b[0;32m    388\u001b[0m         \u001b[38;5;124m\"\u001b[39m\u001b[38;5;124mFound input variables with inconsistent numbers of samples: \u001b[39m\u001b[38;5;132;01m%r\u001b[39;00m\u001b[38;5;124m\"\u001b[39m\n\u001b[0;32m    389\u001b[0m         \u001b[38;5;241m%\u001b[39m [\u001b[38;5;28mint\u001b[39m(l) \u001b[38;5;28;01mfor\u001b[39;00m l \u001b[38;5;129;01min\u001b[39;00m lengths]\n\u001b[0;32m    390\u001b[0m     )\n",
      "\u001b[1;31mValueError\u001b[0m: Found input variables with inconsistent numbers of samples: [506, 100]"
     ]
    }
   ],
   "source": [
    "from sklearn.model_selection import train_test_split\n",
    "\n",
    "#obliczanie parametrow w\n",
    " \n",
    "X_train, X_test, y_train, y_test = train_test_split(d2, target, test_size=0.4, random_state=42)\n",
    " \n",
    "X_walid, X_test, y_walid, y_test = train_test_split(X_test, y_test, test_size=0.5, random_state=42)\n",
    "\n",
    "[w1, w2, w0] = lin_regress2(1, 1, 1, X_train, y_train, 0.001, 100)\n",
    " \n",
    "#wybieranie hiperparametru\n",
    " \n",
    "Y = lin_regress(1, 1, 1, d2, target, 0.001, 1000)\n",
    "X = range(len(Y))\n",
    "plt.scatter(X, Y)\n",
    "plt.title('Zaleznosc wartosci funkcji kosztu od iteracji regresji dla n = 0.001')\n",
    "plt.xlabel('Ilosc iteracji')\n",
    "plt.ylabel('Wartosc funkcji kosztu')\n",
    "plt.show()\n",
    "\n",
    "\n",
    "#wybrano parametr ni 0.001, poniewaz daje on optymalna szybkosc spadku funkcji kosztu\n",
    " \n",
    "#obliczanie wartosci funkcji kosztu na zbiorze treningowym\n",
    " \n",
    "koszt = loss_function(w1, w2, w0, X_test, y_test)\n",
    " \n",
    "print(koszt)\n",
    "\n",
    "##wyniki różnią się ponieważ zbiór danych dzielimy na walidacyjny treningowy i testowy, \n",
    "##w związku z czym występuje rówżnica, ale wyniki są sprawdzone (bardziej zweryfikowane) = nie są zafałszowane\n",
    "\n"
   ]
  },
  {
   "cell_type": "markdown",
   "id": "94275aec",
   "metadata": {},
   "source": [
    "## Uzupełnienie"
   ]
  },
  {
   "cell_type": "code",
   "execution_count": 33,
   "id": "d9659671",
   "metadata": {},
   "outputs": [
    {
     "name": "stdout",
     "output_type": "stream",
     "text": [
      "15.5 15.5 2.8722813232690143 8.25 19.1\n"
     ]
    }
   ],
   "source": [
    "#podstawowe statystyki\n",
    "\n",
    "x = np.array([11,12,13,14,15,16,17,18,19,20])\n",
    "print(np.mean(x), np.median(x), np.std(x), np.var(x), np.percentile(x, 90))"
   ]
  },
  {
   "cell_type": "code",
   "execution_count": 34,
   "id": "cfc421cd",
   "metadata": {},
   "outputs": [
    {
     "name": "stdout",
     "output_type": "stream",
     "text": [
      "[3.42446502 0.70789734 1.65789733 2.23357796 1.1670603  4.04386053\n",
      " 2.21983883 1.42017053 0.68568414 1.30937764]\n",
      "\n",
      "[-3.02935259e+00 -1.42248777e+00  4.92850424e-03 -6.63946159e-01\n",
      "  2.57222970e-01  4.38357431e+00  1.57837283e-02  9.16474701e+00\n",
      " -1.47015262e+00  4.70744651e+00]\n"
     ]
    }
   ],
   "source": [
    "#liczby losowe\n",
    "\n",
    "print(np.random.uniform(0, 5, 10))\n",
    "print()\n",
    "print(np.random.normal(0, 5, 10))"
   ]
  },
  {
   "cell_type": "code",
   "execution_count": 36,
   "id": "8a05a452",
   "metadata": {},
   "outputs": [
    {
     "name": "stdout",
     "output_type": "stream",
     "text": [
      "   a  b\n",
      "0  1  0\n",
      "1  2  5\n",
      "2  6 -5\n",
      "\n",
      "[[-0.9258201   0.        ]\n",
      " [-0.46291005  1.22474487]\n",
      " [ 1.38873015 -1.22474487]]\n"
     ]
    }
   ],
   "source": [
    "#pandas i normalizacja (x-mean)/sd\n",
    "\n",
    "import pandas as pd\n",
    "from sklearn.preprocessing import StandardScaler\n",
    "scale = StandardScaler()\n",
    "\n",
    "X = pd.DataFrame({\"a\":[1,2,6], \"b\":[0,5,-5]})\n",
    "print(X)\n",
    "print()\n",
    "scaledX = scale.fit_transform(X)\n",
    "print(scaledX)"
   ]
  },
  {
   "cell_type": "code",
   "execution_count": 37,
   "id": "4ce51401",
   "metadata": {},
   "outputs": [
    {
     "name": "stdout",
     "output_type": "stream",
     "text": [
      "[-0.9258201  -0.46291005  1.38873015]\n"
     ]
    }
   ],
   "source": [
    "#porownaj z wynikiem wyzej\n",
    "v = np.array([1,2,6])\n",
    "print((v - np.mean(v))/np.std(v))"
   ]
  },
  {
   "cell_type": "code",
   "execution_count": 38,
   "id": "4a43b395",
   "metadata": {},
   "outputs": [
    {
     "name": "stdout",
     "output_type": "stream",
     "text": [
      "[[0 1]\n",
      " [2 3]\n",
      " [4 5]\n",
      " [6 7]\n",
      " [8 9]]\n",
      "\n",
      "[0, 1, 2, 3, 4]\n",
      "\n",
      "[[4 5]\n",
      " [0 1]\n",
      " [6 7]]\n",
      "\n",
      "[[2 3]\n",
      " [8 9]]\n",
      "\n",
      "[2, 0, 3]\n",
      "\n",
      "[1, 4]\n"
     ]
    }
   ],
   "source": [
    "#podzial tekstu na zbior testowy i treningowy\n",
    "from sklearn.model_selection import train_test_split\n",
    "\n",
    "X, y = np.arange(10).reshape((5, 2)), range(5)\n",
    "print(X)\n",
    "print()\n",
    "print(list(y))\n",
    "print()\n",
    "\n",
    "X_train, X_test, y_train, y_test = train_test_split(X, y, test_size=0.4, random_state=42)\n",
    "\n",
    "print(X_train)\n",
    "print()\n",
    "print(X_test)\n",
    "print()\n",
    "print(y_train)\n",
    "print()\n",
    "print(y_test)"
   ]
  }
 ],
 "metadata": {
  "kernelspec": {
   "display_name": "Python 3 (ipykernel)",
   "language": "python",
   "name": "python3"
  },
  "language_info": {
   "codemirror_mode": {
    "name": "ipython",
    "version": 3
   },
   "file_extension": ".py",
   "mimetype": "text/x-python",
   "name": "python",
   "nbconvert_exporter": "python",
   "pygments_lexer": "ipython3",
   "version": "3.9.12"
  }
 },
 "nbformat": 4,
 "nbformat_minor": 5
}
